{
 "cells": [
  {
   "cell_type": "code",
   "execution_count": 8,
   "metadata": {},
   "outputs": [],
   "source": [
    "#Imported neccessary dependancies\n",
    "import pandas as pd\n",
    "import matplotlib.pyplot as plt\n",
    "from matplotlib.pyplot import figure\n",
    "import numpy as np"
   ]
  },
  {
   "cell_type": "code",
   "execution_count": 9,
   "metadata": {},
   "outputs": [],
   "source": [
    "#Reading the csv's and creating the dataframes\n",
    "csv_path_1 = \"AverageFare_Q2_2019.csv\"\n",
    "csv_path_2 = \"AverageFare_Q2_2020.csv\"\n",
    "\n",
    "df_2019 = pd.read_csv(csv_path_1)\n",
    "df_2020 = pd.read_csv(csv_path_2)"
   ]
  },
  {
   "cell_type": "code",
   "execution_count": 10,
   "metadata": {},
   "outputs": [],
   "source": [
    "#Reworking and cleaning data\n",
    "df_19 = df_2019.dropna()\n",
    "df_20 = df_2020.dropna()\n",
    "\n",
    "df_9 = df_19.drop(columns=['Airport Name','2019 Passenger Rank','State Name'])\n",
    "df_0 = df_20.drop(columns=['Airport Name','2019 Passenger Rank','State Name'])\n",
    "\n",
    "clean_19 = df_9.rename(columns={'Average Fare ($)' : 'Average Fare 2019'})\n",
    "clean_20 = df_0.rename(columns={'Average Fare ($)' : 'Average Fare 2020'})"
   ]
  },
  {
   "cell_type": "code",
   "execution_count": 11,
   "metadata": {},
   "outputs": [],
   "source": [
    "clean_19.drop(clean_19.tail(405).index, inplace=True)\n",
    "clean_20.drop(clean_20.tail(389).index, inplace=True)"
   ]
  },
  {
   "cell_type": "code",
   "execution_count": 12,
   "metadata": {},
   "outputs": [
    {
     "data": {
      "text/html": [
       "<div>\n",
       "<style scoped>\n",
       "    .dataframe tbody tr th:only-of-type {\n",
       "        vertical-align: middle;\n",
       "    }\n",
       "\n",
       "    .dataframe tbody tr th {\n",
       "        vertical-align: top;\n",
       "    }\n",
       "\n",
       "    .dataframe thead th {\n",
       "        text-align: right;\n",
       "    }\n",
       "</style>\n",
       "<table border=\"1\" class=\"dataframe\">\n",
       "  <thead>\n",
       "    <tr style=\"text-align: right;\">\n",
       "      <th></th>\n",
       "      <th>Airport Code</th>\n",
       "      <th>City Name</th>\n",
       "      <th>Average Fare 2019</th>\n",
       "      <th>Average Fare 2020</th>\n",
       "    </tr>\n",
       "  </thead>\n",
       "  <tbody>\n",
       "    <tr>\n",
       "      <th>0</th>\n",
       "      <td>LAX</td>\n",
       "      <td>Los Angeles</td>\n",
       "      <td>363.79</td>\n",
       "      <td>277.80</td>\n",
       "    </tr>\n",
       "    <tr>\n",
       "      <th>1</th>\n",
       "      <td>ORD</td>\n",
       "      <td>Chicago-O'Hare</td>\n",
       "      <td>346.87</td>\n",
       "      <td>247.57</td>\n",
       "    </tr>\n",
       "    <tr>\n",
       "      <th>2</th>\n",
       "      <td>DEN</td>\n",
       "      <td>Denver</td>\n",
       "      <td>300.04</td>\n",
       "      <td>233.31</td>\n",
       "    </tr>\n",
       "    <tr>\n",
       "      <th>3</th>\n",
       "      <td>ATL</td>\n",
       "      <td>Atlanta</td>\n",
       "      <td>374.83</td>\n",
       "      <td>262.61</td>\n",
       "    </tr>\n",
       "    <tr>\n",
       "      <th>4</th>\n",
       "      <td>BOS</td>\n",
       "      <td>Boston</td>\n",
       "      <td>345.78</td>\n",
       "      <td>254.58</td>\n",
       "    </tr>\n",
       "  </tbody>\n",
       "</table>\n",
       "</div>"
      ],
      "text/plain": [
       "  Airport Code       City Name  Average Fare 2019  Average Fare 2020\n",
       "0          LAX     Los Angeles             363.79             277.80\n",
       "1          ORD  Chicago-O'Hare             346.87             247.57\n",
       "2          DEN          Denver             300.04             233.31\n",
       "3          ATL         Atlanta             374.83             262.61\n",
       "4          BOS          Boston             345.78             254.58"
      ]
     },
     "execution_count": 12,
     "metadata": {},
     "output_type": "execute_result"
    }
   ],
   "source": [
    "fare_2020 = clean_20[\"Average Fare 2020\"]\n",
    "fare_2019 = clean_19[\"Average Fare 2019\"]\n",
    "df = clean_19.join(fare_2020)"
   ]
  },
  {
   "cell_type": "code",
   "execution_count": 19,
   "metadata": {},
   "outputs": [
    {
     "data": {
      "text/html": [
       "<div>\n",
       "<style scoped>\n",
       "    .dataframe tbody tr th:only-of-type {\n",
       "        vertical-align: middle;\n",
       "    }\n",
       "\n",
       "    .dataframe tbody tr th {\n",
       "        vertical-align: top;\n",
       "    }\n",
       "\n",
       "    .dataframe thead th {\n",
       "        text-align: right;\n",
       "    }\n",
       "</style>\n",
       "<table border=\"1\" class=\"dataframe\">\n",
       "  <thead>\n",
       "    <tr style=\"text-align: right;\">\n",
       "      <th></th>\n",
       "      <th>Airport Code</th>\n",
       "      <th>City Name</th>\n",
       "      <th>Average Fare 2019</th>\n",
       "      <th>Average Fare 2020</th>\n",
       "      <th>Percent Change</th>\n",
       "    </tr>\n",
       "  </thead>\n",
       "  <tbody>\n",
       "    <tr>\n",
       "      <th>15</th>\n",
       "      <td>PHL</td>\n",
       "      <td>Philadelphia</td>\n",
       "      <td>379.00</td>\n",
       "      <td>258.10</td>\n",
       "      <td>-31.899736</td>\n",
       "    </tr>\n",
       "    <tr>\n",
       "      <th>16</th>\n",
       "      <td>SAN</td>\n",
       "      <td>San Diego</td>\n",
       "      <td>334.32</td>\n",
       "      <td>263.92</td>\n",
       "      <td>-21.057669</td>\n",
       "    </tr>\n",
       "    <tr>\n",
       "      <th>17</th>\n",
       "      <td>DTW</td>\n",
       "      <td>Detroit</td>\n",
       "      <td>378.23</td>\n",
       "      <td>280.08</td>\n",
       "      <td>-25.949819</td>\n",
       "    </tr>\n",
       "    <tr>\n",
       "      <th>18</th>\n",
       "      <td>FLL</td>\n",
       "      <td>Fort Lauderdale</td>\n",
       "      <td>264.51</td>\n",
       "      <td>218.92</td>\n",
       "      <td>-17.235643</td>\n",
       "    </tr>\n",
       "    <tr>\n",
       "      <th>19</th>\n",
       "      <td>BWI</td>\n",
       "      <td>Baltimore</td>\n",
       "      <td>332.45</td>\n",
       "      <td>235.43</td>\n",
       "      <td>-29.183336</td>\n",
       "    </tr>\n",
       "  </tbody>\n",
       "</table>\n",
       "</div>"
      ],
      "text/plain": [
       "   Airport Code        City Name  Average Fare 2019  Average Fare 2020  \\\n",
       "15          PHL     Philadelphia             379.00             258.10   \n",
       "16          SAN        San Diego             334.32             263.92   \n",
       "17          DTW          Detroit             378.23             280.08   \n",
       "18          FLL  Fort Lauderdale             264.51             218.92   \n",
       "19          BWI        Baltimore             332.45             235.43   \n",
       "\n",
       "    Percent Change  \n",
       "15      -31.899736  \n",
       "16      -21.057669  \n",
       "17      -25.949819  \n",
       "18      -17.235643  \n",
       "19      -29.183336  "
      ]
     },
     "execution_count": 19,
     "metadata": {},
     "output_type": "execute_result"
    }
   ],
   "source": [
    "#Adding a new column for later analtical purposes\n",
    "perc_change = (((fare_2020 - fare_2019)/fare_2019)*100)\n",
    "perc_change\n",
    "df['Percent Change'] = perc_change\n",
    "df.tail()"
   ]
  },
  {
   "cell_type": "code",
   "execution_count": 17,
   "metadata": {},
   "outputs": [
    {
     "data": {
      "image/png": "[encoded data removed]",
      "text/plain": [
       "<Figure size 648x432 with 1 Axes>"
      ]
     },
     "metadata": {
      "needs_background": "light"
     },
     "output_type": "display_data"
    }
   ],
   "source": [
    "labels = df['Airport Code']\n",
    "x = np.arange(len(labels))\n",
    "width = 0.35\n",
    "\n",
    "fig,ax = plt.subplots()\n",
    "rects1 = ax.bar(x - width/2, df['Average Fare 2019'], width, label='2019')\n",
    "rects2 = ax.bar(x + width/2, df['Average Fare 2020'], width, label='2020')\n",
    "\n",
    "ax.set_ylabel('Average  Airline Fare')\n",
    "ax.set_xlabel('Airport')\n",
    "ax.set_title('Average Q2 Fare from 2019 and 2020 by Airline')\n",
    "ax.set_xticks(x)\n",
    "ax.set_xticklabels(labels)\n",
    "ax.legend()\n",
    "\n",
    "def autolabel(rects):\n",
    "    for rect in rects:\n",
    "        height = rect.get_height()\n",
    "        ax.annotate('{}'.format(height),\n",
    "                   xy=(rect.get_x() + rect.get_width() / 2, height),\n",
    "                    xytext=(0, 3),  # 3 points vertical offset\n",
    "                    textcoords=\"offset points\",\n",
    "                    ha='center', va='bottom')\n",
    "        \n",
    "\n",
    "autolabel(rects1)\n",
    "autolabel(rects2)\n",
    "\n",
    "fig.tight_layout()\n",
    "fig.set_size_inches(9,6)\n",
    "\n",
    "#plt.savefig('Q2 average airfare')\n",
    "plt.show()"
   ]
  },
  {
   "cell_type": "code",
   "execution_count": 46,
   "metadata": {},
   "outputs": [
    {
     "data": {
      "text/plain": [
       "<Figure size 1080x720 with 0 Axes>"
      ]
     },
     "metadata": {},
     "output_type": "display_data"
    },
    {
     "data": {
      "image/png": "[encoded data removed]",
      "text/plain": [
       "<Figure size 432x288 with 1 Axes>"
      ]
     },
     "metadata": {
      "needs_background": "light"
     },
     "output_type": "display_data"
    }
   ],
   "source": [
    "plt.figure(figsize=(15,10))\n",
    "fig = df.plot.bar(x='Airport Code', y='Percent Change', width = 0.7, rot=0)\n",
    "ax.set_xlabel('Airport')\n",
    "ax.set_ylabel('Percent Change')\n",
    "ax.set_title('2nd Quarter Percent Change from 2019 to 2020')\n",
    "\n",
    "plt.show()"
   ]
  },
  {
   "cell_type": "code",
   "execution_count": null,
   "metadata": {},
   "outputs": [],
   "source": []
  }
 ],
 "metadata": {
  "kernelspec": {
   "display_name": "Python 3",
   "language": "python",
   "name": "python3"
  },
  "language_info": {
   "codemirror_mode": {
    "name": "ipython",
    "version": 3
   },
   "file_extension": ".py",
   "mimetype": "text/x-python",
   "name": "python",
   "nbconvert_exporter": "python",
   "pygments_lexer": "ipython3",
   "version": "3.8.3"
  }
 },
 "nbformat": 4,
 "nbformat_minor": 4
}
