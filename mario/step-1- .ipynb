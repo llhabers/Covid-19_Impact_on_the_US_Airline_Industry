{
 "cells": [
  {
   "cell_type": "code",
   "execution_count": 2,
   "metadata": {},
   "outputs": [],
   "source": [
    "import pandas as pd"
   ]
  },
  {
   "cell_type": "code",
   "execution_count": 4,
   "metadata": {},
   "outputs": [
    {
     "data": {
      "text/html": [
       "<div>\n",
       "<style scoped>\n",
       "    .dataframe tbody tr th:only-of-type {\n",
       "        vertical-align: middle;\n",
       "    }\n",
       "\n",
       "    .dataframe tbody tr th {\n",
       "        vertical-align: top;\n",
       "    }\n",
       "\n",
       "    .dataframe thead th {\n",
       "        text-align: right;\n",
       "    }\n",
       "</style>\n",
       "<table border=\"1\" class=\"dataframe\">\n",
       "  <thead>\n",
       "    <tr style=\"text-align: right;\">\n",
       "      <th></th>\n",
       "      <th>Year</th>\n",
       "      <th>Quarter</th>\n",
       "      <th>DOMESTIC</th>\n",
       "      <th>LATIN AMERICA</th>\n",
       "      <th>ATLANTIC</th>\n",
       "      <th>PACIFIC</th>\n",
       "      <th>INTERNATIONAL</th>\n",
       "      <th>TOTAL</th>\n",
       "    </tr>\n",
       "  </thead>\n",
       "  <tbody>\n",
       "    <tr>\n",
       "      <th>0</th>\n",
       "      <td>2000</td>\n",
       "      <td>1</td>\n",
       "      <td>139,162</td>\n",
       "      <td>58,927</td>\n",
       "      <td>-68,918</td>\n",
       "      <td>-106,308</td>\n",
       "      <td>839</td>\n",
       "      <td>23,702</td>\n",
       "    </tr>\n",
       "    <tr>\n",
       "      <th>1</th>\n",
       "      <td>2000</td>\n",
       "      <td>2</td>\n",
       "      <td>1,570,500</td>\n",
       "      <td>-86,040</td>\n",
       "      <td>250,371</td>\n",
       "      <td>154,724</td>\n",
       "      <td>9,541</td>\n",
       "      <td>1,899,096</td>\n",
       "    </tr>\n",
       "    <tr>\n",
       "      <th>2</th>\n",
       "      <td>2000</td>\n",
       "      <td>3</td>\n",
       "      <td>548,903</td>\n",
       "      <td>33,056</td>\n",
       "      <td>226,224</td>\n",
       "      <td>83,675</td>\n",
       "      <td>45,470</td>\n",
       "      <td>937,327</td>\n",
       "    </tr>\n",
       "    <tr>\n",
       "      <th>3</th>\n",
       "      <td>2000</td>\n",
       "      <td>4</td>\n",
       "      <td>-267,068</td>\n",
       "      <td>6,639</td>\n",
       "      <td>-95,916</td>\n",
       "      <td>5,533</td>\n",
       "      <td>23,388</td>\n",
       "      <td>-327,425</td>\n",
       "    </tr>\n",
       "    <tr>\n",
       "      <th>4</th>\n",
       "      <td>2000</td>\n",
       "      <td>TOTAL</td>\n",
       "      <td>1,991,496</td>\n",
       "      <td>12,581</td>\n",
       "      <td>311,761</td>\n",
       "      <td>137,623</td>\n",
       "      <td>79,238</td>\n",
       "      <td>2,532,700</td>\n",
       "    </tr>\n",
       "  </tbody>\n",
       "</table>\n",
       "</div>"
      ],
      "text/plain": [
       "   Year Quarter   DOMESTIC LATIN AMERICA ATLANTIC   PACIFIC INTERNATIONAL  \\\n",
       "0  2000       1    139,162        58,927  -68,918  -106,308           839   \n",
       "1  2000       2  1,570,500       -86,040  250,371   154,724         9,541   \n",
       "2  2000       3    548,903        33,056  226,224    83,675        45,470   \n",
       "3  2000       4   -267,068         6,639  -95,916     5,533        23,388   \n",
       "4  2000   TOTAL  1,991,496        12,581  311,761   137,623        79,238   \n",
       "\n",
       "       TOTAL  \n",
       "0     23,702  \n",
       "1  1,899,096  \n",
       "2    937,327  \n",
       "3   -327,425  \n",
       "4  2,532,700  "
      ]
     },
     "execution_count": 4,
     "metadata": {},
     "output_type": "execute_result"
    }
   ],
   "source": [
    "revenue = pd.read_csv(\"../Resources/Yearly_Income.csv\")\n",
    "revenue.head()"
   ]
  }
 ],
 "metadata": {
  "kernelspec": {
   "display_name": "Python 3",
   "language": "python",
   "name": "python3"
  },
  "language_info": {
   "codemirror_mode": {
    "name": "ipython",
    "version": 3
   },
   "file_extension": ".py",
   "mimetype": "text/x-python",
   "name": "python",
   "nbconvert_exporter": "python",
   "pygments_lexer": "ipython3",
   "version": "3.8.3"
  }
 },
 "nbformat": 4,
 "nbformat_minor": 4
}
